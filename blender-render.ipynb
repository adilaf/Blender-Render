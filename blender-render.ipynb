{
  "nbformat": 4,
  "nbformat_minor": 0,
  "metadata": {
    "colab": {
      "provenance": [],
      "include_colab_link": true
    },
    "kernelspec": {
      "name": "python3",
      "display_name": "Python 3"
    },
    "language_info": {
      "name": "python"
    },
    "accelerator": "GPU"
  },
  "cells": [
    {
      "cell_type": "markdown",
      "metadata": {
        "id": "view-in-github",
        "colab_type": "text"
      },
      "source": [
        "<a href=\"https://colab.research.google.com/github/adilaf/Blender-Render/blob/main/blender-render.ipynb\" target=\"_parent\"><img src=\"https://colab.research.google.com/assets/colab-badge.svg\" alt=\"Open In Colab\"/></a>"
      ]
    },
    {
      "cell_type": "markdown",
      "source": [
        "# **Blender Render**\n",
        "\n",
        "To successfully render your frames from blender:\n",
        "\n",
        "1. Create a folder in your gdrive titled \"Blender\"\n",
        "\n",
        "2. Create a sub-folder inside of the \"Blender\" folder you just made titled \"Output\" to save your frames to.\n",
        "\n",
        "3. Upload your .blend file to the Blender folder.\n",
        "\n",
        "4. Proceed with the following notebook: italicized text"
      ],
      "metadata": {
        "id": "MJlE1k6LCKrs"
      }
    },
    {
      "cell_type": "code",
      "source": [
        "# Mount your google drive to the notebook:\n",
        "# Press Allow for all options\n",
        "\n",
        "from google.colab import drive\n",
        "drive.mount('/gdrive', force_remount=True)"
      ],
      "metadata": {
        "id": "ygEv0ATR5bFW",
        "colab": {
          "base_uri": "https://localhost:8080/"
        },
        "outputId": "d9fe2882-a10a-420d-e162-01fd7c582ced"
      },
      "execution_count": null,
      "outputs": [
        {
          "output_type": "stream",
          "name": "stdout",
          "text": [
            "Mounted at /gdrive\n"
          ]
        }
      ]
    },
    {
      "cell_type": "markdown",
      "source": [
        "#**Read Before Continuing:**\n",
        "- make sure to **insert** your ***start and end frames.***\n",
        "\n",
        "- change the name of your file from `insertfilename.blend` to your `.blend` filename.\n",
        "\n",
        "\n",
        "##If Image:\n",
        "  - make start and end frame the same number\n",
        "  - then make `animation = False`\n",
        "\n",
        "##If Animation:\n",
        "  - input start and end frame numbers\n",
        "  - then make `animation = True`\n",
        "\n",
        "```\n",
        "#change the insertfilename.blend to whatever your .blend file is called. \n",
        "\n",
        "blenderFilePath = '/gdrive/My Drive/Blender/[insertfilename.blend'\n",
        "\n",
        "\n"
      ],
      "metadata": {
        "id": "gob_giZ0NL--"
      }
    },
    {
      "cell_type": "code",
      "source": [
        "blenderVersion = '3.3.0'\n",
        "isBlenderUrl = False\n",
        "isFileUrl = False\n",
        "renderEngine = 'CYCLES'\n",
        "renderer = 'CUDA'\n",
        "\n",
        "#Insert your start and end frames below:\n",
        "startFrame = \n",
        "endFrame = \n",
        "audio = False\n",
        "fileFormat = 'PNG'\n",
        "logEnable = True\n",
        "animation = True\n",
        "token = 'eyJleHAiOiIyMDIzLTAzLTIzIDA2OjI4OjE2In0='\n",
        "\n",
        "outputPath = '/gdrive/My Drive/Blender/Output/'\n",
        "\n",
        "#Change the filename.blend to the name of your .blend file\n",
        "blenderFilePath = '/gdrive/My Drive/Blender/insertfilename.blend'\n"
      ],
      "metadata": {
        "id": "configData"
      },
      "execution_count": null,
      "outputs": []
    },
    {
      "cell_type": "code",
      "source": [
        "import os\n",
        "\n",
        "os.system('pip install git+https://github.com/metafylabs/metablenderrenderer.git#egg=metalabblender')"
      ],
      "metadata": {
        "colab": {
          "base_uri": "https://localhost:8080/"
        },
        "id": "ZC3FYFsXkbBf",
        "outputId": "7ef9f849-2dc1-48c1-ce96-52c61c0ef00c"
      },
      "execution_count": null,
      "outputs": [
        {
          "output_type": "execute_result",
          "data": {
            "text/plain": [
              "0"
            ]
          },
          "metadata": {},
          "execution_count": 4
        }
      ]
    },
    {
      "cell_type": "code",
      "source": [
        "from metalabblender import blender\n",
        "\n",
        "blenderLib = blender.Blender(blenderFilePath, isFileUrl, outputPath, blenderVersion, isBlenderUrl, fileFormat, renderEngine, startFrame, endFrame, renderer, animation, audio, logEnable, token)\n",
        "blenderLib.setup()\n",
        "blenderLib.render()"
      ],
      "metadata": {
        "id": "YUS6n60z01kA"
      },
      "execution_count": null,
      "outputs": []
    }
  ]
}